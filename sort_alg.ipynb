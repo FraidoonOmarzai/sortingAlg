{
 "cells": [
  {
   "cell_type": "markdown",
   "metadata": {},
   "source": [
    " #          Sorting Alg:\n",
    "      1:Bubble sort\n",
    "      2:Insertion sort\n",
    "      3:Selection sort\n",
    "      4:Merge sort\n",
    "      5:Quick sort"
   ]
  },
  {
   "cell_type": "markdown",
   "metadata": {},
   "source": [
    "## 1: Bubble sort\n",
    "The idea behind the bubble sort algorithm is very simple. Given\n",
    "an unordered list, we compare adjacent elements in the list, and\n",
    "after each comparison, place them in the right order of\n",
    "magnitude. This works by swapping adjacent items if they are\n",
    "not in the correct order. The process is repeated n-1 times for a\n",
    "list of n items. In each such iteration, the largest element is\n",
    "arranged in the end.\n",
    "\n",
    "### The bubble sort is an inefficient sorting algorithm that provides worst-case and average-case runtime complexity of O(n 2 ) , and a best-case complexity of O(n)."
   ]
  },
  {
   "cell_type": "code",
   "execution_count": 6,
   "metadata": {},
   "outputs": [],
   "source": [
    "def bubbleSort(arr):\n",
    "    \n",
    "    for i in range(len(arr)-1):\n",
    "        for j in range(len(arr)-1-i):\n",
    "            if arr[j]>arr[j+1]:\n",
    "                arr[j],arr[j+1] = arr[j+1],arr[j]   # swap arr[j] with arr[j+1] and vice versa"
   ]
  },
  {
   "cell_type": "code",
   "execution_count": 7,
   "metadata": {},
   "outputs": [
    {
     "data": {
      "text/plain": [
       "[0, 3, 4, 8, 9, 20, 52]"
      ]
     },
     "execution_count": 7,
     "metadata": {},
     "output_type": "execute_result"
    }
   ],
   "source": [
    "lst = [8,4,52,0,20,3,9]\n",
    "bubbleSort(lst)\n",
    "lst"
   ]
  },
  {
   "cell_type": "markdown",
   "metadata": {},
   "source": [
    "# 2: Insertion sort\n",
    "In insertion sorting, we start with one element, assuming it to be\n",
    "sorted, and then take another element from the unsorted sub-list\n",
    "and place it at the correct position (in relation to the first\n",
    "element) in the sorted sub-list. This means that our sorted sub-\n",
    "list now has two elements. Then, we again take another element\n",
    "from the unsorted sub-list, and place it in the correct position (in\n",
    "relation to the two already sorted elements) in the sorted sub-\n",
    "list. We repeatedly follow this process to insert all the elements\n",
    "one by one from the unsorted sub-list into the sorted sub-\n",
    "list.\n",
    "### Insertion sorting algorithm gives a worst-case runtime complexity of O(n 2 ) , and a best-case complexity O(n) "
   ]
  },
  {
   "cell_type": "code",
   "execution_count": 10,
   "metadata": {},
   "outputs": [],
   "source": [
    "def insertionSort(arr):\n",
    "    \n",
    "    for i in range(1,len(arr)):\n",
    "        value = arr[i]\n",
    "        pos = i\n",
    "        \n",
    "        while pos>0 and arr[pos-1]>value:\n",
    "            arr[pos] = arr[pos-1]\n",
    "            pos -=1\n",
    "    \n",
    "        arr[pos] = value"
   ]
  },
  {
   "cell_type": "code",
   "execution_count": 11,
   "metadata": {},
   "outputs": [
    {
     "data": {
      "text/plain": [
       "[0, 3, 4, 8, 9, 20, 52]"
      ]
     },
     "execution_count": 11,
     "metadata": {},
     "output_type": "execute_result"
    }
   ],
   "source": [
    "lst = [8,4,52,0,20,3,9]\n",
    "insertionSort(lst)\n",
    "lst"
   ]
  },
  {
   "cell_type": "markdown",
   "metadata": {},
   "source": [
    "# 3:Selection sort\n",
    "The\n",
    "selection sorting algorithm begins by finding the smallest\n",
    "element in the list, and interchanges it with the data stored at the\n",
    "first position in the list. Thus, it makes the sub-list sorted up\n",
    "to the first element. Next, the second smallest element, which is\n",
    "the smallest element in the remaining list, is identified and\n",
    "interchanged with the second position in the list. This makes the\n",
    "initial two elements sorted. The process is repeated, and the\n",
    "smallest element remaining in the list should be swapped with\n",
    "the element in the third index on the list. This means that the\n",
    "first three elements are now sorted. This process is repeated for\n",
    "(n-1) times to sort n items.\n",
    "\n",
    "### The selection sorting algorithm gives worst-case and best-case runtime complexities of O(n2) ."
   ]
  },
  {
   "cell_type": "code",
   "execution_count": 12,
   "metadata": {},
   "outputs": [],
   "source": [
    "def selectionSort(arr):\n",
    "    \n",
    "    for i in range(len(arr)):\n",
    "        pos = i\n",
    "        \n",
    "        for j in range(i+1,len(arr)):\n",
    "            if arr[pos]>arr[j]:\n",
    "                pos = j\n",
    "        arr[i],arr[pos] = arr[pos],arr[i]                "
   ]
  },
  {
   "cell_type": "code",
   "execution_count": 13,
   "metadata": {},
   "outputs": [
    {
     "data": {
      "text/plain": [
       "[0, 3, 4, 8, 9, 20, 52]"
      ]
     },
     "execution_count": 13,
     "metadata": {},
     "output_type": "execute_result"
    }
   ],
   "source": [
    "lst = [8,4,52,0,20,3,9]\n",
    "selectionSort(lst)\n",
    "lst"
   ]
  },
  {
   "cell_type": "markdown",
   "metadata": {},
   "source": [
    "## 4:Merge sort\n",
    "Merge sort is a recursive algorithm that continually splits a list in half. If the list is empty or has one item, it is sorted by definition (the base case). If the list has more than one item, we split the list and recursively invoke a merge sort on both halves. Once the two halves are sorted, the fundamental operation, called a merge, is performed. Merging is the process of taking two smaller sorted lists and combining them together into a single, sorted, new list.\n",
    "\n",
    "### Time complexity of Merge Sort is θ(nLogn) in all 3 cases (worst, average and best)"
   ]
  },
  {
   "cell_type": "code",
   "execution_count": 14,
   "metadata": {},
   "outputs": [],
   "source": [
    "def mergeSort(arr):\n",
    "    \n",
    "    if len(arr)>1:\n",
    "        \n",
    "        mid = len(arr)//2\n",
    "        leftHalf = arr[:mid]\n",
    "        rightHalf = arr[mid:]\n",
    "        \n",
    "        mergeSort(leftHalf)\n",
    "        mergeSort(rightHalf)\n",
    "        \n",
    "        i=0\n",
    "        j=0\n",
    "        k=0\n",
    "        \n",
    "        while i<len(leftHalf) and j<len(rightHalf):\n",
    "            if leftHalf[i]>rightHalf[j]:\n",
    "                arr[k] = rightHalf[j]\n",
    "                j +=1\n",
    "            else:\n",
    "                arr[k]=leftHalf[i]\n",
    "                i +=1\n",
    "            k +=1\n",
    "            \n",
    "#         print(arr)\n",
    "\n",
    "        while len(leftHalf)>i:\n",
    "            arr[k] = leftHalf[i]\n",
    "            i +=1\n",
    "            k +=1\n",
    "        while len(rightHalf)>j:\n",
    "            arr[k] = rightHalf[j]\n",
    "            j +=1\n",
    "            k +=1\n",
    "        "
   ]
  },
  {
   "cell_type": "code",
   "execution_count": 15,
   "metadata": {},
   "outputs": [
    {
     "data": {
      "text/plain": [
       "[-5, 0, 3, 4, 8, 9, 20, 52, 100]"
      ]
     },
     "execution_count": 15,
     "metadata": {},
     "output_type": "execute_result"
    }
   ],
   "source": [
    "lst = [-5,8,4,52,0,20,3,9,100]\n",
    "mergeSort(lst)\n",
    "lst"
   ]
  },
  {
   "cell_type": "markdown",
   "metadata": {},
   "source": [
    "## 5:Quick sort\n",
    "The\n",
    "quick sort algorithm falls under the divide and conquer class of\n",
    "algorithms, similar to the merge sort algorithm, where we break\n",
    "(divide) a problem into smaller chunks that are much simpler to\n",
    "solve (conquer).The concept behind quick sorting is partitioning a given list or\n",
    "array. To partition the list, we first select a pivot. All the\n",
    "elements in the list will be compared with this pivot. At the end\n",
    "of the partitioning process, all elements that are less than the\n",
    "pivot will be to the left of the pivot, while all elements greater\n",
    "than the pivot will lie to the right of the pivot in the array.\n",
    "\n",
    "### Worst Case Time Complexity [ Big-O ]: O(n2) ,                                                                                                      Best Case Time Complexity [Big-omega]: O(n*log n),                                                                                           Average Time Complexity [Big-theta]: O(n*log n)"
   ]
  },
  {
   "cell_type": "code",
   "execution_count": 25,
   "metadata": {},
   "outputs": [],
   "source": [
    "def quickSort(arr,first,last):\n",
    "    \n",
    "    if last>first:\n",
    "        \n",
    "        split = partition(arr,first,last)\n",
    "        \n",
    "        quickSort(arr,first,split-1)\n",
    "        quickSort(arr,split+1,last)\n",
    "        \n",
    "def partition(arr,first,last):\n",
    "    \n",
    "    pivot = arr[first]\n",
    "\n",
    "    left = first+1\n",
    "    right = last\n",
    "    \n",
    "    done = True\n",
    "    \n",
    "    while done:\n",
    "\n",
    "        while left <= right and arr[left] <= pivot:\n",
    "            left = left + 1\n",
    "\n",
    "        while arr[right] >= pivot and right >= left:\n",
    "            right = right -1\n",
    "\n",
    "        if right < left:\n",
    "            done = False\n",
    "        else:\n",
    "            arr[left],arr[right]=arr[right],arr[left]\n",
    "\n",
    "    arr[first],arr[right] = arr[right],arr[first]\n",
    "   \n",
    "    return right       "
   ]
  },
  {
   "cell_type": "code",
   "execution_count": 26,
   "metadata": {},
   "outputs": [
    {
     "data": {
      "text/plain": [
       "[-5, 0, 3, 4, 8, 9, 20, 52, 100]"
      ]
     },
     "execution_count": 26,
     "metadata": {},
     "output_type": "execute_result"
    }
   ],
   "source": [
    "lst = [-5,8,4,52,0,20,3,9,100]\n",
    "quickSort(lst,0,len(lst)-1)\n",
    "lst"
   ]
  }
 ],
 "metadata": {
  "kernelspec": {
   "display_name": "Python 3",
   "language": "python",
   "name": "python3"
  },
  "language_info": {
   "codemirror_mode": {
    "name": "ipython",
    "version": 3
   },
   "file_extension": ".py",
   "mimetype": "text/x-python",
   "name": "python",
   "nbconvert_exporter": "python",
   "pygments_lexer": "ipython3",
   "version": "3.8.5"
  }
 },
 "nbformat": 4,
 "nbformat_minor": 4
}
